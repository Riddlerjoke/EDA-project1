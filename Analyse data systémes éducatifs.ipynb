{
 "cells": [
  {
   "metadata": {},
   "cell_type": "markdown",
   "source": [
    "# Analyse des données des systèmes éducatifs\n",
    "## Objectif\n",
    "#### Analyser les données des systèmes éducatifs pour comprendre les facteurs qui influencent la qualité de l'éducation.\n",
    "## Méthode\n",
    "#### 1. Importation des données\n",
    "#### 2. Nettoyage des données\n",
    "#### 3. Analyse exploratoire des données\n",
    "#### 4. Modélisation des données\n",
    "#### 5. Visualisation des données\n",
    "#### 6. Interprétation des résultats\n",
    "#"
   ],
   "id": "59ecfd5eead34630"
  },
  {
   "metadata": {},
   "cell_type": "markdown",
   "source": "# 1. Importation des données et exploration",
   "id": "a93b69057d56b97"
  },
  {
   "cell_type": "code",
   "id": "initial_id",
   "metadata": {
    "collapsed": true
   },
   "source": [
    "import pandas as pd\n",
    "import numpy as np\n",
    "import matplotlib.pyplot as plt\n",
    "import seaborn as sns\n",
    "import os"
   ],
   "outputs": [],
   "execution_count": null
  },
  {
   "metadata": {},
   "cell_type": "code",
   "source": [
    "df_data = pd.read_csv('data/EdStatsData.csv')\n",
    "df_data.head(20)"
   ],
   "id": "975b31951f974e55",
   "outputs": [],
   "execution_count": null
  },
  {
   "metadata": {},
   "cell_type": "code",
   "source": [
    "df_country_series = pd.read_csv('data/EdStatsCountry-Series.csv')\n",
    "df_country_series.head()"
   ],
   "id": "5ba9976d3374b58a",
   "outputs": [],
   "execution_count": null
  },
  {
   "metadata": {},
   "cell_type": "code",
   "source": [
    "df_footnote = pd.read_csv('data/EdStatsFootNote.csv')\n",
    "df_footnote.head()"
   ],
   "id": "951d111c53547600",
   "outputs": [],
   "execution_count": null
  },
  {
   "metadata": {},
   "cell_type": "code",
   "source": [
    "df_series = pd.read_csv('data/EdStatsSeries.csv')\n",
    "df_series.head()"
   ],
   "id": "4f69ee43249d5fde",
   "outputs": [],
   "execution_count": null
  },
  {
   "metadata": {},
   "cell_type": "markdown",
   "source": [
    "## Collecte des informations de chaque jeu de données\n",
    "#### Maintenant que l'ensemble des données sont importé correctement et définis dans des dataframes, nous allons les\n",
    "#### explorer pour comprendre les informations qu'elles contiennent."
   ],
   "id": "17b86977ee4664e1"
  },
  {
   "metadata": {},
   "cell_type": "markdown",
   "source": [
    "#### pour que notre collecte d'informations soit plus facile, nous allons créer une fonction qui nous permettra de\n",
    "#### récupérer les informations de chaque dataframe."
   ],
   "id": "bc7b78e00c361eaf"
  },
  {
   "metadata": {},
   "cell_type": "code",
   "source": [
    "def analyse_dataframe(df, df_name):\n",
    "    print(f\"Analyse du fichier: {df_name}\")\n",
    "    \n",
    "    # Définir ce que représente une ligne\n",
    "    print(\"Définition d'une ligne:\")\n",
    "    if 'Country Name' in df.columns and 'Indicator Name' in df.columns:\n",
    "        print(\"Une ligne représente une combinaison de pays et d'indicateur.\")\n",
    "    elif 'Country Name' in df.columns:\n",
    "        print(\"Une ligne représente un pays.\")\n",
    "    elif 'Indicator Name' in df.columns:\n",
    "        print(\"Une ligne représente un indicateur.\")\n",
    "    elif 'Country Code' in df.columns and 'Description' in df.columns:\n",
    "        print(\"Une ligne représente une description spécifique à un pays.\")\n",
    "    else:\n",
    "        print(\"Autre chose.\")\n",
    "    \n",
    "    # Calculer le nombre de lignes et de colonnes\n",
    "    print(f\"Nombre de lignes: {df.shape[0]}\")\n",
    "    print(f\"Nombre de colonnes: {df.shape[1]}\")\n",
    "    \n",
    "    # Calculer le nombre de doublons\n",
    "    num_duplicates = df.duplicated().sum()\n",
    "    print(f\"Nombre de doublons: {num_duplicates}\")\n",
    "    \n",
    "    # Supprimer les doublons\n",
    "    if num_duplicates > 0:\n",
    "        df = df.drop_duplicates()\n",
    "        print(\"Doublons supprimés.\")\n",
    "    \n",
    "    # Calculer la proportion de valeurs manquantes par colonne\n",
    "    missing_values = df.isnull().mean() * 100\n",
    "    print(\"Proportion de valeurs manquantes par colonne (%):\")\n",
    "    print(missing_values)\n",
    "    \n",
    "    # Supprimer les colonnes inutilisables (plus de 20% de valeurs manquantes)\n",
    "    threshold = 20\n",
    "    cols_to_drop = missing_values[missing_values > threshold].index\n",
    "    df = df.drop(columns=cols_to_drop)\n",
    "    print(f\"Colonnes supprimées (plus de {threshold}% de valeurs manquantes): {list(cols_to_drop)}\")\n",
    "    \n",
    "    # Calculer les statistiques descriptives pour les colonnes numériques\n",
    "    print(\"Statistiques descriptives pour les colonnes numériques:\")\n",
    "    print(df.describe())\n",
    "    \n",
    "    # Calculer le nombre d'occurrences de chaque valeur possible pour les colonnes catégorielles\n",
    "    print(\"Nombre d'occurrences pour les colonnes catégorielles:\")\n",
    "    for col in df.select_dtypes(include=['object']).columns:\n",
    "        print(f\"Colonne: {col}\")\n",
    "        print(df[col].value_counts())\n",
    "    \n",
    "    return df"
   ],
   "id": "96cc4360d5e6c99e",
   "outputs": [],
   "execution_count": null
  },
  {
   "metadata": {},
   "cell_type": "markdown",
   "source": [
    "#### Avant de continuer Visualisons les valeurs manquantes dans chaque dataframe. Cela nous permettra de voir\n",
    "#### rapidement quelles colonnes contiennent des valeurs manquantes et de décider si nous devons les supprimer ou les\n",
    "#### remplir.\n"
   ],
   "id": "f131eda34d364386"
  },
  {
   "metadata": {},
   "cell_type": "code",
   "source": [
    "def plot_missing_values_heatmap(df, df_name):\n",
    "    plt.figure(figsize=(10, 8))\n",
    "    sns.heatmap(df.isnull(), cmap='cool')\n",
    "    plt.title(f'Heatmap des valeurs manquantes pour {df_name}')\n",
    "    plt.show()"
   ],
   "id": "5c3a9d222e66ffc8",
   "outputs": [],
   "execution_count": null
  },
  {
   "metadata": {},
   "cell_type": "code",
   "source": "plot_missing_values_heatmap(df_data, 'EdStatsData.csv')",
   "id": "1b93f9acf46b4d70",
   "outputs": [],
   "execution_count": null
  },
  {
   "metadata": {},
   "cell_type": "code",
   "source": "plot_missing_values_heatmap(df_country, 'EdStatsCountry.csv')",
   "id": "24d89d921a350e3f",
   "outputs": [],
   "execution_count": null
  },
  {
   "metadata": {},
   "cell_type": "code",
   "source": "plot_missing_values_heatmap(df_country_series, 'EdStatsCountry-Series.csv')",
   "id": "d0b563754ee84f53",
   "outputs": [],
   "execution_count": null
  },
  {
   "metadata": {},
   "cell_type": "code",
   "source": "plot_missing_values_heatmap(df_footnote, 'EdStatsFootNote.csv')",
   "id": "a9ce1075b08bd787",
   "outputs": [],
   "execution_count": null
  },
  {
   "metadata": {},
   "cell_type": "code",
   "source": "plot_missing_values_heatmap(df_series, 'EdStatsSeries.csv')",
   "id": "bde2b670a294c09c",
   "outputs": [],
   "execution_count": null
  },
  {
   "metadata": {},
   "cell_type": "markdown",
   "source": "",
   "id": "56b4a2db3152e9"
  },
  {
   "metadata": {},
   "cell_type": "code",
   "source": [
    "# Exception ici pour le fichier EdStatsData.csv car il contient beaucoup de données manquantes en fonction des indicateurs\n",
    "# Nous allons donc supprimer les lignes avec plus de 50% de valeurs manquantes\n",
    "# pour ne garder que les indicateurs les plus pertinents\n",
    "df_data = df_data.dropna(thresh=df_data.shape[1]//2)\n",
    "missing_values = df_data.isnull().mean() * 100\n",
    "print(\"Proportion de valeurs manquantes par colonne (%):\")\n",
    "print(missing_values)\n",
    "threshold = 20\n",
    "cols_to_drop = missing_values[missing_values > threshold].index\n",
    "df_data = df_data.drop(columns=cols_to_drop)\n",
    "print(f\"Colonnes supprimées (plus de {threshold}% de valeurs manquantes): {list(cols_to_drop)}\")"
   ],
   "id": "9d56e44e46068cf7",
   "outputs": [],
   "execution_count": null
  },
  {
   "metadata": {},
   "cell_type": "code",
   "source": [
    "df_data.head()\n",
    "print(f\"Nombre de lignes: {df_data.shape[0]}\")\n",
    "print(f\"Nombre de colonnes: {df_data.shape[1]}\")\n",
    "df_data.describe()"
   ],
   "id": "9056345eaf76d0af",
   "outputs": [],
   "execution_count": null
  },
  {
   "metadata": {},
   "cell_type": "code",
   "source": "df_country = analyse_dataframe(df_country, 'EdStatsCountry.csv')",
   "id": "1602bd05c717b9af",
   "outputs": [],
   "execution_count": null
  },
  {
   "metadata": {},
   "cell_type": "code",
   "source": "df_country.head()",
   "id": "5249c65568fa7e32",
   "outputs": [],
   "execution_count": null
  },
  {
   "metadata": {},
   "cell_type": "code",
   "source": "df_country_series = analyse_dataframe(df_country_series, 'EdStatsCountry-Series.csv')",
   "id": "c1914e9a797bc48d",
   "outputs": [],
   "execution_count": null
  },
  {
   "metadata": {},
   "cell_type": "code",
   "source": "df_country_series.head()",
   "id": "278565d6ad28b43d",
   "outputs": [],
   "execution_count": null
  },
  {
   "metadata": {},
   "cell_type": "code",
   "source": "df_footnote = analyse_dataframe(df_footnote, 'EdStatsFootNote.csv')",
   "id": "dc5a1174dbe08748",
   "outputs": [],
   "execution_count": null
  },
  {
   "metadata": {},
   "cell_type": "code",
   "source": "df_footnote.head()",
   "id": "e46fb84bd8c0f21d",
   "outputs": [],
   "execution_count": null
  },
  {
   "metadata": {},
   "cell_type": "code",
   "source": "df_series = analyse_dataframe(df_series, 'EdStatsSeries.csv')",
   "id": "7d6d05691d58c7a6",
   "outputs": [],
   "execution_count": null
  },
  {
   "metadata": {},
   "cell_type": "code",
   "source": "df_series.head()",
   "id": "7b87065fb125a32b",
   "outputs": [],
   "execution_count": null
  },
  {
   "metadata": {},
   "cell_type": "code",
   "source": "plot_missing_values_heatmap(df_data, 'EdStatsData.csv')",
   "id": "abd34d823821c4ca",
   "outputs": [],
   "execution_count": null
  },
  {
   "metadata": {},
   "cell_type": "code",
   "source": "plot_missing_values_heatmap(df_country, 'EdStatsCountry.csv')",
   "id": "6573bc0c3fc654dd",
   "outputs": [],
   "execution_count": null
  },
  {
   "metadata": {},
   "cell_type": "code",
   "source": "plot_missing_values_heatmap(df_country_series, 'EdStatsCountry-Series.csv')",
   "id": "fd961ee6aa15a530",
   "outputs": [],
   "execution_count": null
  },
  {
   "metadata": {},
   "cell_type": "code",
   "source": "plot_missing_values_heatmap(df_footnote, 'EdStatsFootNote.csv')",
   "id": "b8f4afeaa2554611",
   "outputs": [],
   "execution_count": null
  },
  {
   "metadata": {},
   "cell_type": "code",
   "source": "plot_missing_values_heatmap(df_series, 'EdStatsSeries.csv')",
   "id": "2841e5f22e88d90c",
   "outputs": [],
   "execution_count": null
  },
  {
   "metadata": {},
   "cell_type": "markdown",
   "source": "#### Après avoir analysé les données, nous pouvons voir que les dataframes contiennent des informations sur les pays, les indicateurs, les séries, les données et les notes de bas de page. Nous allons maintenant nettoyer les données pour les rendre plus faciles à analyser.",
   "id": "f7336c438598a39e"
  },
  {
   "metadata": {},
   "cell_type": "markdown",
   "source": [
    "# 2. Nettoyage des données\n",
    "\n",
    "### Nettoyage des données des pays\n",
    "#### Nous allons commencer par nettoyer les données des pays. Nous allons supprimer les colonnes inutiles\n",
    "#### et remplir les valeurs manquantes.\n",
    "\n",
    " \n"
   ],
   "id": "49f55d05462b42fa"
  },
  {
   "metadata": {},
   "cell_type": "code",
   "source": "df_country.head()",
   "id": "a7ef8901edb5e0c4",
   "outputs": [],
   "execution_count": null
  },
  {
   "metadata": {},
   "cell_type": "markdown",
   "source": "#### Affichage des données manquantes pour les pays",
   "id": "1f97a4ba1d1dea7c"
  },
  {
   "metadata": {},
   "cell_type": "code",
   "source": "df_country.isnull().sum()",
   "id": "700fea7d22e0bc96",
   "outputs": [],
   "execution_count": null
  },
  {
   "metadata": {},
   "cell_type": "markdown",
   "source": "#### Affichage du contenu unique de la colonne 'Region'",
   "id": "223e5dd922058a36"
  },
  {
   "metadata": {},
   "cell_type": "code",
   "source": "df_country['Region'].unique()",
   "id": "212522906d80c07",
   "outputs": [],
   "execution_count": null
  },
  {
   "metadata": {},
   "cell_type": "code",
   "source": [
    "# afficher les pays qui n'ont pas de région\n",
    "df_country[df_country['Region'].isnull()]['Table Name']"
   ],
   "id": "dbafe655b476d57a",
   "outputs": [],
   "execution_count": null
  },
  {
   "metadata": {},
   "cell_type": "markdown",
   "source": "#### Supprimer les pays n'appartenant à aucune région (car ils ne sont pas utiles pour notre analyse)",
   "id": "ae860e95779ad15c"
  },
  {
   "metadata": {},
   "cell_type": "code",
   "source": "df_country = df_country.dropna(subset=['Region'])",
   "id": "a38cc06e99c3e255",
   "outputs": [],
   "execution_count": null
  },
  {
   "metadata": {},
   "cell_type": "markdown",
   "source": "#### Afficher la heatmap pour vérifier si les valeurs manquantes ont été supprimées",
   "id": "b2fb4c8fc81504ed"
  },
  {
   "metadata": {},
   "cell_type": "code",
   "source": [
    "\n",
    "plot_missing_values_heatmap(df_country, 'EdStatsCountry.csv')"
   ],
   "id": "50d0fb2f6ebf0e3c",
   "outputs": [],
   "execution_count": null
  },
  {
   "metadata": {},
   "cell_type": "code",
   "source": [
    "# suppression des lignes contenant encore des valeurs manquantes\n",
    "df_country = df_country.dropna()"
   ],
   "id": "1a5e8a070fb7e000",
   "outputs": [],
   "execution_count": null
  },
  {
   "metadata": {},
   "cell_type": "code",
   "source": [
    "# vérifier\n",
    "plot_missing_values_heatmap(df_country, 'EdStatsCountry.csv')"
   ],
   "id": "edf0e183e95b0f42",
   "outputs": [],
   "execution_count": null
  },
  {
   "metadata": {},
   "cell_type": "markdown",
   "source": "",
   "id": "bc7a328f49aa19f6"
  },
  {
   "metadata": {},
   "cell_type": "code",
   "source": "df_country['Region'].unique()",
   "id": "7c2cd37425eada9c",
   "outputs": [],
   "execution_count": null
  },
  {
   "metadata": {},
   "cell_type": "markdown",
   "source": "#### Remplacer les valeurs manquantes dans le df_data par la moyenne de la colonne pour chaque année",
   "id": "2dae6655042e942"
  },
  {
   "metadata": {},
   "cell_type": "code",
   "source": "df_data.info()",
   "id": "ad62af5184987ee0",
   "outputs": [],
   "execution_count": null
  },
  {
   "metadata": {},
   "cell_type": "code",
   "source": [
    "# Select columns except 'Country Name' and 'Indicator Name'\n",
    "columns_to_fill = df_data.drop(columns=['Country Name', 'Indicator Name', 'Country Code', 'Indicator Code'])\n",
    "\n",
    "# Fill missing values with the mean for these columns\n",
    "df_data[columns_to_fill.columns] = columns_to_fill.fillna(columns_to_fill.mean())\n",
    "\n",
    "# Display the first few rows to verify\n",
    "print(df_data.head())"
   ],
   "id": "457aad7a8e12d757",
   "outputs": [],
   "execution_count": null
  },
  {
   "metadata": {},
   "cell_type": "code",
   "source": "plot_missing_values_heatmap(df_data, 'EdStatsData.csv')",
   "id": "febbec528badf13f",
   "outputs": [],
   "execution_count": null
  },
  {
   "metadata": {},
   "cell_type": "code",
   "source": [
    "df_data.head()\n",
    "print(f\"Nombre de lignes: {df_data.shape[0]}\")\n",
    "print(f\"Nombre de colonnes: {df_data.shape[1]}\")"
   ],
   "id": "fefe6fcd3cb50c64",
   "outputs": [],
   "execution_count": null
  },
  {
   "metadata": {},
   "cell_type": "markdown",
   "source": "### Aggrégation de l'ensemble des datasets en un seul dataframe pour faciliter l'analyse des données des systèmes éducatifs des pays. ",
   "id": "21042a5ba0ffeaca"
  },
  {
   "metadata": {},
   "cell_type": "markdown",
   "source": "#### Nous allons maintenant fusionner les dataframes pour faciliter l'analyse des données des systèmes éducatifs des pays. Nous allons utiliser les colonnes 'Country Name' et 'Country Code' pour fusionner les dataframes.",
   "id": "19e0f4892daee99c"
  },
  {
   "metadata": {},
   "cell_type": "markdown",
   "source": "#### Nous allons commencer par fusionner les dataframes 'df_data' et 'df_country' en utilisant la colonne 'Country Code'.",
   "id": "5791b77c8b92c01d"
  },
  {
   "metadata": {},
   "cell_type": "code",
   "source": [
    "#changement du nom de la colonne 'Country Code' en 'CountryCode' pour faciliter la fusion\n",
    "df_country = df_country.rename(columns={'Country Code': 'CountryCode'})\n",
    "df_data = df_data.rename(columns={'Country Code': 'CountryCode'})"
   ],
   "id": "d221e6369103a686",
   "outputs": [],
   "execution_count": null
  },
  {
   "metadata": {},
   "cell_type": "code",
   "source": [
    "# Define the chunk size\n",
    "chunk_size = 10000\n",
    "\n",
    "# Initialize an empty list to store the processed chunks\n",
    "chunks = []\n",
    "\n",
    "# Process the data in chunks\n",
    "for chunk in pd.read_csv('data/EdStatsData.csv', chunksize=chunk_size):\n",
    "    # Perform any necessary processing on the chunk\n",
    "    # For example, fill missing values with the mean\n",
    "    columns_to_fill = chunk.drop(columns=['Country Name', 'Indicator Name', 'Country Code', 'Indicator Code'])\n",
    "    chunk[columns_to_fill.columns] = columns_to_fill.fillna(columns_to_fill.mean())\n",
    "    \n",
    "    # Append the processed chunk to the list\n",
    "    chunks.append(chunk)\n",
    "\n",
    "# Concatenate all the processed chunks into a single dataframe\n",
    "df_data = pd.concat(chunks, ignore_index=True)\n",
    "\n",
    "# Save the processed dataframe to a new CSV file\n",
    "df_data.to_csv('data/Processed_EdStatsData.csv', index=False)\n",
    "\n",
    "# Display the first few rows to verify\n",
    "print(df_data.head())"
   ],
   "id": "90bf7f697daa7126",
   "outputs": [],
   "execution_count": null
  }
 ],
 "metadata": {
  "kernelspec": {
   "display_name": "Python 3",
   "language": "python",
   "name": "python3"
  },
  "language_info": {
   "codemirror_mode": {
    "name": "ipython",
    "version": 2
   },
   "file_extension": ".py",
   "mimetype": "text/x-python",
   "name": "python",
   "nbconvert_exporter": "python",
   "pygments_lexer": "ipython2",
   "version": "2.7.6"
  }
 },
 "nbformat": 4,
 "nbformat_minor": 5
}
